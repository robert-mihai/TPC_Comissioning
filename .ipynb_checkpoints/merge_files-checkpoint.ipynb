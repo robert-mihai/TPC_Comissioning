{
 "cells": [
  {
   "cell_type": "code",
   "execution_count": 2,
   "id": "ab47bdf0",
   "metadata": {},
   "outputs": [],
   "source": [
    "#!/usr/bin/env python3\n",
    "# -*- coding: utf-8 -*-\n",
    "\"\"\"\n",
    "Created on Fri Oct  1 20:55:09 2021\n",
    "\n",
    "@author: robertamarinei\n",
    "\"\"\"\n",
    "\n",
    "\n",
    "import glob\n",
    "\n",
    "import re\n",
    "numbers = re.compile(r'(\\d+)')\n",
    "def numericalSort(value):\n",
    "    parts = numbers.split(value)\n",
    "    parts[1::2] = map(int, parts[1::2])\n",
    "    return parts\n",
    "\n",
    "#path =  \"excel_acq/ScopeSet_1/1400TPC_017_noDrift/\"\n",
    "#path =  \"excel_acq/ScopeSet_2/1400TPC_017_noDrift/\"\n",
    "#path = \"excel_acq/ScopeSet_2/noDrift_GEMon/\"\n",
    "#path = \"excel_acq/ThGEM2750/test_1200ThGEM/\"\n",
    "#path = \"excel_acq/ThGEM2750/noDrift_1200ThGEMon_ii/\"\n",
    "#path = \"excel_acq/ThGEM2750/1000ThGEM/\"\n",
    "\n",
    "path = \"excel_acq/ThGEM2750/CosmicTelescope/C7500_M1600_Up1200_Dn100/\"\n",
    "read_files = sorted(glob.glob(path+\"*.txt\"),key=numericalSort)\n",
    "\n",
    "\n",
    "with open(path+\"result.txt\", \"wb\") as outfile:\n",
    "    for f in read_files:\n",
    "        with open(f, \"rb\") as infile:  \n",
    "            outfile.write(infile.read())\n",
    "            outfile.write(\"\\n\".encode())\n",
    "            outfile.write(infile.read())\n",
    "    \n",
    "\n",
    "  \n",
    "            \n",
    "            \n",
    "            \n",
    "    \n",
    "\"\"\"\n",
    "this next part deletes the empty lines from the output file\n",
    "\"\"\"    \n",
    "with open(path+\"result.txt\", 'r+') as fd:\n",
    "    lines = fd.readlines()\n",
    "    fd.seek(0)\n",
    "    fd.writelines(line for line in lines if line.strip())\n",
    "    fd.truncate()"
   ]
  },
  {
   "cell_type": "code",
   "execution_count": null,
   "id": "e80ff381",
   "metadata": {},
   "outputs": [],
   "source": []
  },
  {
   "cell_type": "code",
   "execution_count": null,
   "id": "9b16c144",
   "metadata": {},
   "outputs": [],
   "source": []
  }
 ],
 "metadata": {
  "kernelspec": {
   "display_name": "Python 3",
   "language": "python",
   "name": "python3"
  },
  "language_info": {
   "codemirror_mode": {
    "name": "ipython",
    "version": 3
   },
   "file_extension": ".py",
   "mimetype": "text/x-python",
   "name": "python",
   "nbconvert_exporter": "python",
   "pygments_lexer": "ipython3",
   "version": "3.8.8"
  }
 },
 "nbformat": 4,
 "nbformat_minor": 5
}
