{
 "cells": [
  {
   "cell_type": "code",
   "execution_count": 1,
   "id": "fe5d30dd",
   "metadata": {},
   "outputs": [],
   "source": [
    "#!/usr/bin/env python3\n",
    "\n",
    "\"\"\"\n",
    "Created on Mon Oct  4 14:54:00 2021\n",
    "\n",
    "@author: robertamarinei\n",
    "\"\"\"\n",
    "\n",
    "\n",
    "    \n",
    "\n",
    "import numpy as np\n",
    "import matplotlib.pyplot as plt\n",
    "import matplotlib as matplotlib\n",
    "from datetime import datetime\n",
    "from scipy.stats import norm\n",
    "\n",
    "\n",
    "\n",
    "\n",
    "#f  = open('caen_test.txt')\n",
    "#f  = open('test_data.txt')\n",
    "#path = 'excel_acq/1400PMT_017_noDrift/result.txt'\n",
    "#path = 'excel_acq/1400PMT_017/result.txt'\n",
    "#path =  \"excel_acq/ScopeSet_1/1400TPC_017/\"#200 events\n",
    "#path =  \"excel_acq/ScopeSet_1/1400TPC_017_noDrift/\"#109 events\n",
    "#path =  \"excel_acq/ScopeSet_2/1400TPC_017/\"#200\n",
    "#path =  \"excel_acq/ScopeSet_2/1400TPC_017_noDrift/\"#198\n",
    "#path =  \"excel_acq/ScopeSet_2/noDrift_GEMon/\"#200\n",
    "#path = \"excel_acq/ThGEM2750/noDrift_1200ThGEMon_ii/\"\n",
    "#tot_evt = 200 #200\n",
    "path = \"excel_acq/ThGEM2750/CosmicTelescope/1250_1150_1100\"\n",
    "tot_evt = 11\n",
    "trig_offset = 0#seconds. i.e. trigger offset is centred on the middle of the screen\n",
    "volt_lim = -0.009\n",
    "\n",
    "#path =  \"excel_acq/ThGEM2750/1200ThGEM/\"\n",
    "#tot_evt = 200 #200\n",
    "#trig_offset = 0#seconds. i.e. trigger offset is centred on the middle of the screen\n",
    "#volt_lim = -0.009\n",
    "\n",
    "\n",
    "# path =  \"excel_acq/ThGEM2750/Setup3/1300ThGEM_noDrift/\"\n",
    "# tot_evt = 200 #200\n",
    "# trig_offset = -3e-5#seconds. i.e. trigger offset is centred on the middle of the screen\n",
    "# volt_lim = -0.009\n",
    "\n",
    "\n",
    "\n",
    "\n",
    "#path =  \"excel_acq/ThGEM2750/Setup2/1200ThGEM/\"\n",
    "#tot_evt = 182 #200\n",
    "#trig_offset = -15e-6#seconds\n",
    "\n",
    "f = open(path+\"result.txt\",'r')\n",
    "#f = open('CAENGECO2020_update.txt')\n",
    "\n",
    "\n"
   ]
  },
  {
   "cell_type": "code",
   "execution_count": 2,
   "id": "837bc7db",
   "metadata": {},
   "outputs": [],
   "source": [
    "ampl_TPC = []\n",
    "time_TPC = []\n",
    "\n",
    "all_ampl_TPC = []\n",
    "ampl_Scint = []\n",
    "time_Scint = []\n",
    "dum_wf_sum= 0\n",
    "wf_sum_Scint = []\n",
    "wf_sum_TPC = []\n",
    "time_st = []\n",
    "bin_info=[]\n",
    "Int_aft = []\n",
    "Int_bef = []\n",
    "sat_evt = []\n",
    "sat_evt2 = []\n",
    "\n",
    "evt_no = []\n",
    "evt_no_good = []\n",
    "for i in range(tot_evt):\n",
    "    evt_no.append(i)\n",
    "\n",
    "for i in range(tot_evt):\n",
    "    ampl_TPC.append([])    \n",
    "    time_TPC.append([])\n",
    "    ampl_Scint.append([])\n",
    "    time_Scint.append([])\n",
    "    Int_bef.append(0)\n",
    "    Int_aft.append(0)\n",
    "\n",
    "\n",
    "#read data and store them in a list of list\n",
    "dis = f.readlines()\n",
    "f.close()\n",
    "for i in dis:\n",
    "        evt_,ch_,time_,ampl_ = i.split(',')\n",
    "        if (ch_ == \"C1\"):\n",
    "                ampl_TPC[int(evt_)].append(float(ampl_))\n",
    "                time_TPC[int(evt_)].append(float(time_))\n",
    "        elif (ch_ == \"C2\"): \n",
    "                ampl_Scint[int(evt_)].append(float(ampl_))   \n",
    "                time_Scint[int(evt_)].append(float(time_))\n",
    "\n",
    "\n",
    "for i in range(len(ampl_TPC[0])):\n",
    "    wf_sum_Scint.append(0)\n",
    "    wf_sum_TPC.append(0)\n",
    "\n",
    "\n",
    "trigger_level = -0.017#volts\n",
    "   \n",
    "\n",
    "#    wf_sum_Scint.append(dum_wf_sum) \n",
    "#    wf_sum_TPC.append(dum_wf_sum_TPC)    \n",
    "#    time_st.append(time_Scint[0][i])\n",
    "            \n",
    "fake_trigger = 0\n",
    "\n",
    "#--------------------\n",
    "#integrals before and after the trigger offset \n",
    "#--------------------\n",
    "for i in  range(len(ampl_TPC)):\n",
    "    for j in range(len(ampl_TPC[0])): \n",
    "        if (time_TPC[i][j]<trig_offset):\n",
    "            Int_bef[i]+=abs(ampl_TPC[i][j])\n",
    "        elif (time_TPC[i][j]>trig_offset):\n",
    "            Int_aft[i]+=abs(ampl_TPC[i][j])\n",
    "\n",
    "            \n",
    "#--------------------\n",
    "#determine which events are saturated and store them in sat_evt list\n",
    "#--------------------\n",
    "for i in range(len(evt_no)):\n",
    "    if (Int_aft[i] > 240): \n",
    "        print (\"method 1\", evt_no[i], Int_aft[i])\n",
    "        sat_evt.append(evt_no[i])\n",
    "evt_no_good = evt_no    \n",
    "\n",
    "#--------------------\n",
    "#Do the waveform sum \n",
    "#--------------------\n",
    "for i in  range(len(ampl_TPC)):\n",
    "    #if i in sat_evt:  continue\n",
    "    for j in range(len(ampl_TPC[0])):    \n",
    "            all_ampl_TPC.append(ampl_Scint[i][j])\n",
    "            wf_sum_Scint[j] += ampl_Scint[i][j] \n",
    "            wf_sum_TPC[j] += ampl_TPC[i][j]\n",
    "\n",
    "time_st = time_Scint[0] \n",
    "\n"
   ]
  },
  {
   "cell_type": "code",
   "execution_count": 3,
   "id": "e90e20cf",
   "metadata": {},
   "outputs": [
    {
     "data": {
      "image/png": "[encoded data removed]",
      "text/plain": [
       "<Figure size 1152x288 with 3 Axes>"
      ]
     },
     "metadata": {
      "needs_background": "light"
     },
     "output_type": "display_data"
    }
   ],
   "source": [
    "\n",
    "int_hist, int_hist_s = plt.subplots(1, 3, figsize=(16, 4), sharey=False)\n",
    "int_hist_s[0].hist(Int_bef,range= (0, 12))\n",
    "int_hist_s[0].set_title(\"Integral before the trigger for all events\")\n",
    "int_hist_s[0].set_xlabel(\"Amplitude [V]\")\n",
    "int_hist_s[1].hist(Int_aft, range= (0, 12))\n",
    "int_hist_s[1].set_title(\"Integral after the trigger for all events\")\n",
    "int_hist_s[1].set_xlabel(\"Amplitude [V]\")\n",
    "int_hist_s[2].plot(evt_no,Int_aft)\n",
    "int_hist_s[2].set_title(\"Evt Number vs wf integral after trigger\")\n",
    "int_hist_s[2].set_xlabel(\"Event Number \")\n",
    "int_hist_s[2].set_ylabel(\"Waveform sum \")\n",
    "\n",
    "int_hist.savefig(path+\"integrals.pdf\")\n",
    "\n"
   ]
  },
  {
   "cell_type": "code",
   "execution_count": 4,
   "id": "8495a41a",
   "metadata": {},
   "outputs": [
    {
     "data": {
      "image/png": "[encoded data removed]",
      "text/plain": [
       "<Figure size 720x288 with 2 Axes>"
      ]
     },
     "metadata": {
      "needs_background": "light"
     },
     "output_type": "display_data"
    }
   ],
   "source": [
    "\n",
    "#plt.bar(time_TPC[0], wf_sum)\n",
    "#plt.bar(x,y)\n",
    "fig, axs = plt.subplots(1, 2, figsize=(10, 4), sharey=False)\n",
    "# Set common labels\n",
    "\n",
    "axs[0].set_xlabel('Acquisiton Time [s]')\n",
    "axs[0].set_ylabel('Amplitude Added [V]')\n",
    "axs[1].set_xlabel('Acquistion Time [s]')\n",
    "axs[0].plot(time_st, wf_sum_Scint)\n",
    "axs[1].plot(time_st,wf_sum_TPC)\n",
    "fig.savefig(path+\"wf_added.pdf\")\n",
    "\n"
   ]
  },
  {
   "cell_type": "code",
   "execution_count": 5,
   "id": "78739572",
   "metadata": {},
   "outputs": [
    {
     "ename": "IndexError",
     "evalue": "list index out of range",
     "output_type": "error",
     "traceback": [
      "\u001b[0;31m---------------------------------------------------------------------------\u001b[0m",
      "\u001b[0;31mIndexError\u001b[0m                                Traceback (most recent call last)",
      "\u001b[0;32m<ipython-input-5-73d5bb6d1b0e>\u001b[0m in \u001b[0;36m<module>\u001b[0;34m\u001b[0m\n\u001b[1;32m      7\u001b[0m \u001b[0maxs2\u001b[0m\u001b[0;34m[\u001b[0m\u001b[0;36m1\u001b[0m\u001b[0;34m]\u001b[0m\u001b[0;34m.\u001b[0m\u001b[0mset_title\u001b[0m\u001b[0;34m(\u001b[0m\u001b[0mevt_pl\u001b[0m \u001b[0;34m+\u001b[0m\u001b[0;36m1\u001b[0m\u001b[0;34m)\u001b[0m\u001b[0;34m\u001b[0m\u001b[0;34m\u001b[0m\u001b[0m\n\u001b[1;32m      8\u001b[0m \u001b[0;34m\u001b[0m\u001b[0m\n\u001b[0;32m----> 9\u001b[0;31m \u001b[0maxs2\u001b[0m\u001b[0;34m[\u001b[0m\u001b[0;36m0\u001b[0m\u001b[0;34m]\u001b[0m\u001b[0;34m.\u001b[0m\u001b[0mplot\u001b[0m\u001b[0;34m(\u001b[0m\u001b[0mtime_Scint\u001b[0m\u001b[0;34m[\u001b[0m\u001b[0;36m4\u001b[0m\u001b[0;34m]\u001b[0m\u001b[0;34m,\u001b[0m\u001b[0mampl_Scint\u001b[0m\u001b[0;34m[\u001b[0m\u001b[0mevt_pl\u001b[0m\u001b[0;34m]\u001b[0m\u001b[0;34m)\u001b[0m\u001b[0;34m\u001b[0m\u001b[0;34m\u001b[0m\u001b[0m\n\u001b[0m\u001b[1;32m     10\u001b[0m \u001b[0maxs2\u001b[0m\u001b[0;34m[\u001b[0m\u001b[0;36m0\u001b[0m\u001b[0;34m]\u001b[0m\u001b[0;34m.\u001b[0m\u001b[0mplot\u001b[0m\u001b[0;34m(\u001b[0m\u001b[0mtime_TPC\u001b[0m\u001b[0;34m[\u001b[0m\u001b[0;36m4\u001b[0m\u001b[0;34m]\u001b[0m\u001b[0;34m,\u001b[0m\u001b[0mampl_TPC\u001b[0m\u001b[0;34m[\u001b[0m\u001b[0mevt_pl\u001b[0m\u001b[0;34m]\u001b[0m\u001b[0;34m)\u001b[0m\u001b[0;34m\u001b[0m\u001b[0;34m\u001b[0m\u001b[0m\n\u001b[1;32m     11\u001b[0m \u001b[0;34m\u001b[0m\u001b[0m\n",
      "\u001b[0;31mIndexError\u001b[0m: list index out of range"
     ]
    },
    {
     "data": {
      "image/png": "[encoded data removed]",
      "text/plain": [
       "<Figure size 720x288 with 2 Axes>"
      ]
     },
     "metadata": {
      "needs_background": "light"
     },
     "output_type": "display_data"
    }
   ],
   "source": [
    "\n",
    "\n",
    "fig2, axs2 = plt.subplots(1, 2, figsize=(10, 4), sharey=False)\n",
    "axs2[0].set_xlabel('Acquisiton Time [s]')\n",
    "axs2[0].set_ylabel('Amplitude  [V]')\n",
    "axs2[1].set_xlabel('Acquistion Time [s]')\n",
    "evt_pl =30\n",
    "axs2[0].set_title(evt_pl)\n",
    "axs2[1].set_title(evt_pl +1)\n",
    "\n",
    "axs2[0].plot(time_Scint[4],ampl_Scint[evt_pl])\n",
    "axs2[0].plot(time_TPC[4],ampl_TPC[evt_pl])\n",
    "\n",
    "\n",
    "axs2[1].plot(time_Scint[4],ampl_Scint[evt_pl+1])\n",
    "axs2[1].plot(time_TPC[4],ampl_TPC[evt_pl +1])\n",
    "\n",
    "fig2.savefig(path+\"single_events.pdf\")\n",
    "\n"
   ]
  },
  {
   "cell_type": "code",
   "execution_count": null,
   "id": "3e0a8547",
   "metadata": {
    "scrolled": true
   },
   "outputs": [],
   "source": [
    "# import pandas\n",
    "import pandas as pd\n",
    "\n",
    "# create figure and axis objects with subplots()\n",
    "fig,ax = plt.subplots()\n",
    "evt_pl = sat_evt[2]\n",
    "ax.set_title(evt_pl)\n",
    "# make a plot\n",
    "ax.plot(time_Scint[4],ampl_Scint[evt_pl])\n",
    "# set x-axis label\n",
    "ax.set_xlabel(\"Acquisition Window [us]\",fontsize=14)\n",
    "# set y-axis label\n",
    "ax.set_ylabel(\"Scintillator Amplitude\",color=\"blue\",fontsize=14)\n",
    "#Next we use twinx() function to create the second axis object “ax2”. Now we use the second axis object “ax2” to make plot of the second y-axis variable and update their labels.\n",
    "# twin object for two different y-axis on the sample plot\n",
    "\n",
    "\n",
    "ax2=ax.twinx()\n",
    "# make a plot with different y-axis using second axis object\n",
    "ax2.plot(time_TPC[4],ampl_TPC[evt_pl], color = \"red\")\n",
    "ax2.set_ylabel(\"TPC Amplitude\",color=\"red\",fontsize=14)\n",
    "plt.show()\n",
    "# save the plot as a file\n",
    "fig.savefig(path+'single_event_diff_axis.pdf',\n",
    "            format='pdf', bbox_inches='tight')\n",
    "\n",
    "\n"
   ]
  },
  {
   "cell_type": "code",
   "execution_count": null,
   "id": "3eac9e57",
   "metadata": {},
   "outputs": [],
   "source": []
  }
 ],
 "metadata": {
  "kernelspec": {
   "display_name": "Python 3",
   "language": "python",
   "name": "python3"
  },
  "language_info": {
   "codemirror_mode": {
    "name": "ipython",
    "version": 3
   },
   "file_extension": ".py",
   "mimetype": "text/x-python",
   "name": "python",
   "nbconvert_exporter": "python",
   "pygments_lexer": "ipython3",
   "version": "3.8.8"
  }
 },
 "nbformat": 4,
 "nbformat_minor": 5
}
